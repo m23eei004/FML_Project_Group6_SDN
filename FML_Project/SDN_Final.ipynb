{
  "nbformat": 4,
  "nbformat_minor": 0,
  "metadata": {
    "colab": {
      "provenance": []
    },
    "kernelspec": {
      "name": "python3",
      "display_name": "Python 3"
    },
    "language_info": {
      "name": "python"
    }
  },
  "cells": [
    {
      "cell_type": "code",
      "execution_count": 7,
      "metadata": {
        "id": "_sentar1CO1c"
      },
      "outputs": [],
      "source": [
        "import numpy as np\n",
        "import pandas as pd\n",
        "from scipy import stats\n",
        "import pickle\n",
        "\n",
        "# Plotting libraries\n",
        "import seaborn as sns\n",
        "import matplotlib.pyplot as plt\n",
        "\n",
        "# Sklearn libraries\n",
        "from sklearn.neighbors import KNeighborsClassifier\n",
        "from sklearn.preprocessing import StandardScaler\n",
        "from sklearn.preprocessing import label_binarize\n",
        "from sklearn.model_selection import train_test_split\n",
        "from sklearn.decomposition import PCA\n",
        "from sklearn.linear_model import LogisticRegression\n",
        "from sklearn.cluster import DBSCAN, KMeans\n",
        "from sklearn.metrics import accuracy_score, classification_report, confusion_matrix\n",
        "\n",
        "# Filter warnings\n",
        "# warnings.filterwarnings('ignore') #filter warnings\n",
        "# Show plots inline\n",
        "%matplotlib inline\n",
        "\n",
        "ping_df = pd.read_csv('/content/dns_training_data.csv', delimiter='\\t')\n",
        "voice_df  = pd.read_csv('/content/voice_training_data.csv', delimiter='\\t')\n",
        "dns_df = pd.read_csv('/content/dns_training_data.csv', delimiter='\\t')\n",
        "telnet_df = pd.read_csv('/content/telnet_training_data.csv', delimiter='\\t')\n",
        "df = pd.concat([ping_df, voice_df, dns_df, telnet_df], ignore_index=True)\n",
        "\n",
        "\n"
      ]
    },
    {
      "cell_type": "code",
      "source": [
        "df.head"
      ],
      "metadata": {
        "colab": {
          "base_uri": "https://localhost:8080/"
        },
        "id": "WQkkjQsWF0TB",
        "outputId": "ba91b381-ecd2-4594-aea4-2cd00c297302"
      },
      "execution_count": 8,
      "outputs": [
        {
          "output_type": "execute_result",
          "data": {
            "text/plain": [
              "<bound method NDFrame.head of       Forward Packets  Forward Bytes  Delta Forward Packets  \\\n",
              "0                   0              0                      0   \n",
              "1                   0              0                      0   \n",
              "2                   6            410                      6   \n",
              "3                   6            410                      6   \n",
              "4                   9            616                      3   \n",
              "...               ...            ...                    ...   \n",
              "4621            18611        1635974                      0   \n",
              "4622            18611        1635974                      0   \n",
              "4623            18611        1635974                      0   \n",
              "4624            18611        1635974                      0   \n",
              "4625            18613        1636111                      2   \n",
              "\n",
              "      Delta Forward Bytes  Forward Instantaneous Packets per Second  \\\n",
              "0                       0                                       0.0   \n",
              "1                       0                                       0.0   \n",
              "2                     410                                       6.0   \n",
              "3                     410                                       6.0   \n",
              "4                     206                                       3.0   \n",
              "...                   ...                                       ...   \n",
              "4621                    0                                       0.0   \n",
              "4622                    0                                       0.0   \n",
              "4623                    0                                       0.0   \n",
              "4624                    0                                       0.0   \n",
              "4625                  137                                       2.0   \n",
              "\n",
              "      Forward Average Packets per second  \\\n",
              "0                               0.000000   \n",
              "1                               0.000000   \n",
              "2                               6.000000   \n",
              "3                               6.000000   \n",
              "4                               4.500000   \n",
              "...                                  ...   \n",
              "4621                           31.597623   \n",
              "4622                           31.597623   \n",
              "4623                           31.544068   \n",
              "4624                           31.544068   \n",
              "4625                           31.494078   \n",
              "\n",
              "      Forward Instantaneous Bytes per Second  \\\n",
              "0                                        0.0   \n",
              "1                                        0.0   \n",
              "2                                      410.0   \n",
              "3                                      410.0   \n",
              "4                                      206.0   \n",
              "...                                      ...   \n",
              "4621                                     0.0   \n",
              "4622                                     0.0   \n",
              "4623                                     0.0   \n",
              "4624                                     0.0   \n",
              "4625                                   137.0   \n",
              "\n",
              "      Forward Average Bytes per second  Reverse Packets  Reverse Bytes  \\\n",
              "0                             0.000000                0              0   \n",
              "1                             0.000000                7            760   \n",
              "2                           410.000000                7            760   \n",
              "3                           410.000000               12           1118   \n",
              "4                           308.000000               12           1118   \n",
              "...                                ...              ...            ...   \n",
              "4621                       2777.544992            18583        1227122   \n",
              "4622                       2777.544992            18583        1227122   \n",
              "4623                       2772.837288            18583        1227122   \n",
              "4624                       2772.837288            18583        1227122   \n",
              "4625                       2768.377327            18583        1227122   \n",
              "\n",
              "      Delta Reverse Packets  Delta Reverse Bytes  \\\n",
              "0                         0                    0   \n",
              "1                         7                  760   \n",
              "2                         7                  760   \n",
              "3                         5                  358   \n",
              "4                         5                  358   \n",
              "...                     ...                  ...   \n",
              "4621                      0                    0   \n",
              "4622                      0                    0   \n",
              "4623                      0                    0   \n",
              "4624                      0                    0   \n",
              "4625                      0                    0   \n",
              "\n",
              "      DeltaReverse Instantaneous Packets per Second  \\\n",
              "0                                               0.0   \n",
              "1                                               7.0   \n",
              "2                                               7.0   \n",
              "3                                               5.0   \n",
              "4                                               5.0   \n",
              "...                                             ...   \n",
              "4621                                            0.0   \n",
              "4622                                            0.0   \n",
              "4623                                            0.0   \n",
              "4624                                            0.0   \n",
              "4625                                            0.0   \n",
              "\n",
              "      Reverse Average Packets per second  \\\n",
              "0                               0.000000   \n",
              "1                               7.000000   \n",
              "2                               7.000000   \n",
              "3                               6.000000   \n",
              "4                               6.000000   \n",
              "...                                  ...   \n",
              "4621                           31.603741   \n",
              "4622                           31.550085   \n",
              "4623                           31.550085   \n",
              "4624                           31.496610   \n",
              "4625                           31.496610   \n",
              "\n",
              "      Reverse Instantaneous Bytes per Second  \\\n",
              "0                                        0.0   \n",
              "1                                      760.0   \n",
              "2                                      760.0   \n",
              "3                                      358.0   \n",
              "4                                      358.0   \n",
              "...                                      ...   \n",
              "4621                                     0.0   \n",
              "4622                                     0.0   \n",
              "4623                                     0.0   \n",
              "4624                                     0.0   \n",
              "4625                                     0.0   \n",
              "\n",
              "      Reverse Average Bytes per second Traffic Type  \n",
              "0                             0.000000          dns  \n",
              "1                           760.000000          dns  \n",
              "2                           760.000000          dns  \n",
              "3                           559.000000          dns  \n",
              "4                           559.000000          dns  \n",
              "...                                ...          ...  \n",
              "4621                       2086.942177       telnet  \n",
              "4622                       2083.398981       telnet  \n",
              "4623                       2083.398981       telnet  \n",
              "4624                       2079.867797       telnet  \n",
              "4625                       2079.867797       telnet  \n",
              "\n",
              "[4626 rows x 17 columns]>"
            ]
          },
          "metadata": {},
          "execution_count": 8
        }
      ]
    },
    {
      "cell_type": "code",
      "source": [
        "df.dropna(inplace=True)\n",
        "df.drop('Forward Packets', axis=1, inplace=True)\n",
        "df.drop('Forward Bytes', axis=1, inplace=True)\n",
        "df.drop('Reverse Packets', axis=1, inplace=True)\n",
        "df.drop('Reverse Bytes', axis=1, inplace=True)\n",
        "df['Traffic Type'] = df['Traffic Type'].astype('category')\n",
        "\n",
        "print ('Value counts:')\n",
        "df['Traffic Type'].value_counts()"
      ],
      "metadata": {
        "id": "Xn3RfyppJjy_",
        "outputId": "85ec5745-f35b-4b6b-ca8c-67289ac5e7ef",
        "colab": {
          "base_uri": "https://localhost:8080/"
        }
      },
      "execution_count": 9,
      "outputs": [
        {
          "output_type": "stream",
          "name": "stdout",
          "text": [
            "Value counts:\n"
          ]
        },
        {
          "output_type": "execute_result",
          "data": {
            "text/plain": [
              "dns       2308\n",
              "telnet    1181\n",
              "voice     1137\n",
              "Name: Traffic Type, dtype: int64"
            ]
          },
          "metadata": {},
          "execution_count": 9
        }
      ]
    },
    {
      "cell_type": "code",
      "source": [
        "X = df.drop('Traffic Type',axis=1)\n",
        "y = df['Traffic Type']\n",
        "\n",
        "X_test, X_train, y_test, y_train = train_test_split(X,y,test_size=0.2, random_state=101)\n",
        "X_test1,X_val,y_test1,y_val=train_test_split(X_test,y_test,test_size=0.5)\n",
        "\n",
        "model = KNeighborsClassifier(n_neighbors=1)\n",
        "model.fit(X_train,y_train)\n",
        "\n",
        "idx = 727 #random number\n",
        "single_x_test = [df.iloc[idx].drop('Traffic Type').tolist()]\n",
        "single_y_test = df.iloc[idx]['Traffic Type']\n",
        "\n",
        "single_prediction = model.predict(single_x_test)\n",
        "\n",
        "print('For this sample, our model predicted %s and it was actually %s' % (single_prediction[0], single_y_test))"
      ],
      "metadata": {
        "colab": {
          "base_uri": "https://localhost:8080/"
        },
        "id": "zP-A9u2EJy-d",
        "outputId": "36897681-abab-4f2f-9b56-1ebb6e54e8fc"
      },
      "execution_count": 12,
      "outputs": [
        {
          "output_type": "stream",
          "name": "stdout",
          "text": [
            "For this sample, our model predicted dns and it was actually dns\n"
          ]
        },
        {
          "output_type": "stream",
          "name": "stderr",
          "text": [
            "/usr/local/lib/python3.10/dist-packages/sklearn/base.py:439: UserWarning: X does not have valid feature names, but KNeighborsClassifier was fitted with feature names\n",
            "  warnings.warn(\n"
          ]
        }
      ]
    },
    {
      "cell_type": "code",
      "source": [
        "predictions = model.predict(X_test1)\n",
        "\n",
        "resultsDF = pd.DataFrame({\n",
        "        'true':y_test1,\n",
        "        'predicted':predictions\n",
        "    })\n",
        "resultsDF.head()\n",
        "\n",
        "print('Accuracy: %.2f%%' % (accuracy_score(predictions,y_test1)*100))"
      ],
      "metadata": {
        "colab": {
          "base_uri": "https://localhost:8080/"
        },
        "id": "W5c0xN54J63Z",
        "outputId": "9fb29f5e-17ff-4ede-d4e3-452ecc7743cd"
      },
      "execution_count": 13,
      "outputs": [
        {
          "output_type": "stream",
          "name": "stdout",
          "text": [
            "Accuracy: 99.95%\n"
          ]
        }
      ]
    },
    {
      "cell_type": "code",
      "source": [
        "single_x_val = [df.iloc[idx].drop('Traffic Type').tolist()]\n",
        "single_y_val = df.iloc[idx]['Traffic Type']\n",
        "\n",
        "single_prediction = model.predict(single_x_val)\n",
        "print('For this sample, our model predicted %s and it was actually %s' % (single_prediction[0], single_y_val))\n",
        "\n",
        "predictions = model.predict(X_val)\n",
        "\n",
        "resultsDF1 = pd.DataFrame({\n",
        "        'true':y_val,\n",
        "        'predicted':predictions\n",
        "    })\n",
        "resultsDF1.head()\n",
        "\n",
        "print('Accuracy: %.2f%%' % (accuracy_score(predictions,y_val)*100))"
      ],
      "metadata": {
        "colab": {
          "base_uri": "https://localhost:8080/"
        },
        "id": "wwl3hrzYJ99Y",
        "outputId": "dfece924-ccf0-47ec-d677-e04fac4e5be4"
      },
      "execution_count": 14,
      "outputs": [
        {
          "output_type": "stream",
          "name": "stdout",
          "text": [
            "For this sample, our model predicted dns and it was actually dns\n",
            "Accuracy: 99.78%\n"
          ]
        },
        {
          "output_type": "stream",
          "name": "stderr",
          "text": [
            "/usr/local/lib/python3.10/dist-packages/sklearn/base.py:439: UserWarning: X does not have valid feature names, but KNeighborsClassifier was fitted with feature names\n",
            "  warnings.warn(\n"
          ]
        }
      ]
    },
    {
      "cell_type": "code",
      "source": [
        "import numpy as np\n",
        "import pandas as pd\n",
        "from sklearn.neighbors import KNeighborsClassifier\n",
        "from sklearn.metrics import accuracy_score\n",
        "import matplotlib.pyplot as plt\n",
        "\n",
        "k = 0\n",
        "max_k = int(input('Enter max value of K to consider: '))\n",
        "\n",
        "accu = np.zeros(max_k)\n",
        "\n",
        "for k in range(1, max_k):\n",
        "    model = KNeighborsClassifier(n_neighbors=k)\n",
        "    model.fit(X_train, y_train)\n",
        "    y_pred = model.predict(X_test1)\n",
        "\n",
        "    resultsDF = pd.DataFrame({\n",
        "        'true': y_test1,\n",
        "        'predicted': y_pred\n",
        "    })\n",
        "    resultsDF.head()\n",
        "\n",
        "    accu[k] = accuracy_score(y_test1, y_pred) * 100\n",
        "\n",
        "plt.plot(range(1, max_k), accu[1:])\n",
        "plt.xlabel('K')\n",
        "plt.ylabel('Accuracy')\n",
        "plt.title('Accuracy vs. K')\n",
        "plt.show()\n"
      ],
      "metadata": {
        "id": "RzAMWsZjDOFl",
        "colab": {
          "base_uri": "https://localhost:8080/",
          "height": 489
        },
        "outputId": "733d7a31-3e8e-495c-a767-5fce3563da51"
      },
      "execution_count": 15,
      "outputs": [
        {
          "name": "stdout",
          "output_type": "stream",
          "text": [
            "Enter max value of K to consider: 901\n"
          ]
        },
        {
          "output_type": "display_data",
          "data": {
            "text/plain": [
              "<Figure size 640x480 with 1 Axes>"
            ],
            "image/png": "[encoded data removed]"
          },
          "metadata": {}
        }
      ]
    }
  ]
}